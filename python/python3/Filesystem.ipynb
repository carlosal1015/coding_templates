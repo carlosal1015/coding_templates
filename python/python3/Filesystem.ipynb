{
 "cells": [
  {
   "cell_type": "markdown",
   "metadata": {},
   "source": [
    "# Filesystem"
   ]
  },
  {
   "cell_type": "code",
   "execution_count": 1,
   "metadata": {},
   "outputs": [],
   "source": [
    "import os\n",
    "import fnmatch\n",
    "import shutil"
   ]
  },
  {
   "cell_type": "markdown",
   "metadata": {},
   "source": [
    "## Get Information"
   ]
  },
  {
   "cell_type": "code",
   "execution_count": 2,
   "metadata": {},
   "outputs": [
    {
     "data": {
      "text/plain": [
       "'/home/mivkov/coding/coding_templates/python/python3'"
      ]
     },
     "execution_count": 2,
     "metadata": {},
     "output_type": "execute_result"
    }
   ],
   "source": [
    "# current path\n",
    "os.getcwd()"
   ]
  },
  {
   "cell_type": "code",
   "execution_count": 3,
   "metadata": {},
   "outputs": [
    {
     "data": {
      "text/plain": [
       "['sphinx',\n",
       " 'mpi_examples.py',\n",
       " 'applications',\n",
       " 'Arrays.ipynb',\n",
       " 'importmodul.py',\n",
       " 'switching_to_python_3.txt',\n",
       " 'inputfiles',\n",
       " '.ipynb_checkpoints',\n",
       " 'plots',\n",
       " 'readfromfile.py',\n",
       " 'call_shell_commands.py',\n",
       " 'pickling_files.py',\n",
       " 'file.h5',\n",
       " 'funktionen.py',\n",
       " 'cmdline_args_and_workdir.py',\n",
       " 'warnings_to_errors.py',\n",
       " 'loops.py',\n",
       " 'sort_two_lists.py',\n",
       " 'deprecated',\n",
       " 'sympy_examples.py',\n",
       " 'matrices.py',\n",
       " 'filesystem.py',\n",
       " 'Dictionnaries.ipynb',\n",
       " 'use_hdf5.py',\n",
       " 'random_methods.py',\n",
       " 'time_stuff.py',\n",
       " 'make_a_package',\n",
       " 'exception_handling.py',\n",
       " 'checks.py',\n",
       " 'Filesystem.ipynb',\n",
       " 'formatted_output.py',\n",
       " 'strings.py',\n",
       " 'oop.py',\n",
       " 'listen.py']"
      ]
     },
     "execution_count": 3,
     "metadata": {},
     "output_type": "execute_result"
    }
   ],
   "source": [
    "# Files in directory\n",
    "os.listdir()"
   ]
  },
  {
   "cell_type": "code",
   "execution_count": 4,
   "metadata": {},
   "outputs": [
    {
     "data": {
      "text/plain": [
       "['python2', '.gitignore', 'python3']"
      ]
     },
     "execution_count": 4,
     "metadata": {},
     "output_type": "execute_result"
    }
   ],
   "source": [
    "# Files in some other dir:\n",
    "os.listdir(\"..\")"
   ]
  },
  {
   "cell_type": "code",
   "execution_count": 5,
   "metadata": {},
   "outputs": [
    {
     "name": "stdout",
     "output_type": "stream",
     "text": [
      "['output_00008.00001', 'output_00008.00002', 'output_00008.00003', 'output_00008.00004', 'output_00008.00005', 'output_00008.00006', 'output_00008.00007', 'output_00008.00008']\n"
     ]
    }
   ],
   "source": [
    "# Get only files matching pattern from a dir:\n",
    "inputfiles=[]\n",
    "fileloc='inputfiles/mpi_multiple_files/'\n",
    "for filename in os.listdir(fileloc):\n",
    "    if fnmatch.fnmatch(filename, 'output_00008*'):\n",
    "        inputfiles.append(filename)\n",
    "\n",
    "inputfiles.sort() # sort alphabetically\n",
    "print(inputfiles)"
   ]
  },
  {
   "cell_type": "markdown",
   "metadata": {},
   "source": [
    "## Interact"
   ]
  },
  {
   "cell_type": "code",
   "execution_count": 6,
   "metadata": {},
   "outputs": [
    {
     "name": "stdout",
     "output_type": "stream",
     "text": [
      "Created directory 'python_created_this_directory'\n",
      "This directory's contents are now: ['sphinx', 'mpi_examples.py', 'applications', 'Arrays.ipynb', 'importmodul.py', 'switching_to_python_3.txt', 'inputfiles', '.ipynb_checkpoints', 'plots', 'readfromfile.py', 'call_shell_commands.py', 'pickling_files.py', 'file.h5', 'funktionen.py', 'cmdline_args_and_workdir.py', 'warnings_to_errors.py', 'loops.py', 'sort_two_lists.py', 'deprecated', 'sympy_examples.py', 'matrices.py', 'filesystem.py', 'Dictionnaries.ipynb', 'use_hdf5.py', 'python_created_this_directory', 'random_methods.py', 'time_stuff.py', 'make_a_package', 'exception_handling.py', 'checks.py', 'Filesystem.ipynb', 'formatted_output.py', 'strings.py', 'oop.py', 'listen.py']\n"
     ]
    }
   ],
   "source": [
    "# Create directory if it doesn't exist already\n",
    "dirname='python_created_this_directory'\n",
    "\n",
    "if not os.path.exists(dirname):\n",
    "    os.makedirs(dirname)\n",
    "    print(\"Created directory \", dirname, \"\", sep=\"'\")\n",
    "else:\n",
    "    print(\"Directory \", dirname, \" already exists.\", sep=\"'\")\n",
    "\n",
    "\n",
    "print(\"This directory's contents are now:\", os.listdir())\n"
   ]
  },
  {
   "cell_type": "code",
   "execution_count": 7,
   "metadata": {},
   "outputs": [
    {
     "name": "stdout",
     "output_type": "stream",
     "text": [
      "File didn't exist. Writing a new one.\n",
      "New file with some useless content written. ['python_created_this_file.txt']\n"
     ]
    }
   ],
   "source": [
    "# Create file if it doesn't exist\n",
    "filename='python_created_this_file.txt'\n",
    "fileloc=dirname+'/'+filename\n",
    "\n",
    "try:\n",
    "    file = open(fileloc, 'r')\n",
    "    print(\"File exists already.\")\n",
    "except IOError:\n",
    "    print(\"File didn't exist. Writing a new one.\")\n",
    "    file = open(fileloc, 'w')\n",
    "    file.write('some text to put in the file\\n')\n",
    "    # If opened this way while the file exists, it will be overwritten completely!\n",
    "    file.close()\n",
    "    print(\"New file with some useless content written.\", os.listdir(dirname))\n",
    "    file = open(fileloc, 'r')\n"
   ]
  },
  {
   "cell_type": "code",
   "execution_count": 8,
   "metadata": {},
   "outputs": [
    {
     "name": "stdout",
     "output_type": "stream",
     "text": [
      "some text to put in the file\n",
      "\n"
     ]
    }
   ],
   "source": [
    "# Reading from created file\n",
    "print(file.read())"
   ]
  },
  {
   "cell_type": "code",
   "execution_count": 9,
   "metadata": {},
   "outputs": [],
   "source": [
    "# deleting file\n",
    "os.remove(fileloc)\n"
   ]
  },
  {
   "cell_type": "code",
   "execution_count": 10,
   "metadata": {},
   "outputs": [],
   "source": [
    "# deleting directory\n",
    "os.rmdir(dirname)"
   ]
  },
  {
   "cell_type": "code",
   "execution_count": 11,
   "metadata": {},
   "outputs": [
    {
     "name": "stdout",
     "output_type": "stream",
     "text": [
      "directory and file created:  ['python_created_this_file.txt']\n",
      "directory and file removed:  ['sphinx', 'mpi_examples.py', 'applications', 'Arrays.ipynb', 'importmodul.py', 'switching_to_python_3.txt', 'inputfiles', '.ipynb_checkpoints', 'plots', 'readfromfile.py', 'call_shell_commands.py', 'pickling_files.py', 'file.h5', 'funktionen.py', 'cmdline_args_and_workdir.py', 'warnings_to_errors.py', 'loops.py', 'sort_two_lists.py', 'deprecated', 'sympy_examples.py', 'matrices.py', 'filesystem.py', 'Dictionnaries.ipynb', 'use_hdf5.py', 'random_methods.py', 'time_stuff.py', 'make_a_package', 'exception_handling.py', 'checks.py', 'Filesystem.ipynb', 'formatted_output.py', 'strings.py', 'oop.py', 'listen.py']\n"
     ]
    }
   ],
   "source": [
    "# Königsdisziplin: Remove directory and contents recursively.\n",
    "\n",
    "# First creating directory and file again.\n",
    "\n",
    "os.makedirs(dirname)\n",
    "file = open(fileloc, 'w')\n",
    "file.write('some text to put in the file\\n')\n",
    "\n",
    "# If opened this way while the file exists, it will be overwritten completely!\n",
    "file.close()\n",
    "\n",
    "print(\"directory and file created: \", os.listdir(dirname))\n",
    "\n",
    "shutil.rmtree(dirname)\n",
    "\n",
    "print(\"directory and file removed: \", os.listdir())\n"
   ]
  },
  {
   "cell_type": "code",
   "execution_count": null,
   "metadata": {},
   "outputs": [],
   "source": []
  }
 ],
 "metadata": {
  "kernelspec": {
   "display_name": "Python 3",
   "language": "python",
   "name": "python3"
  },
  "language_info": {
   "codemirror_mode": {
    "name": "ipython",
    "version": 3
   },
   "file_extension": ".py",
   "mimetype": "text/x-python",
   "name": "python",
   "nbconvert_exporter": "python",
   "pygments_lexer": "ipython3",
   "version": "3.6.7"
  }
 },
 "nbformat": 4,
 "nbformat_minor": 2
}
