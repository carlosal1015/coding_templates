{
 "cells": [
  {
   "cell_type": "markdown",
   "metadata": {},
   "source": [
    "# Variable Scope Checks"
   ]
  },
  {
   "cell_type": "code",
   "execution_count": 1,
   "metadata": {},
   "outputs": [],
   "source": [
    "a = 5"
   ]
  },
  {
   "cell_type": "code",
   "execution_count": 2,
   "metadata": {},
   "outputs": [
    {
     "name": "stdout",
     "output_type": "stream",
     "text": [
      "a is local variable\n",
      "a is global variable\n"
     ]
    }
   ],
   "source": [
    "if 'a' in locals():\n",
    "    print( 'a is local variable' )\n",
    "else:\n",
    "    print( 'a is not local variable' )\n",
    "\n",
    "if 'a' in globals():\n",
    "    print( 'a is global variable' )\n",
    "else:\n",
    "    print( 'a is not global variable' )\n"
   ]
  },
  {
   "cell_type": "code",
   "execution_count": 3,
   "metadata": {},
   "outputs": [
    {
     "name": "stdout",
     "output_type": "stream",
     "text": [
      "b is not local variable\n",
      "b is not global variable\n"
     ]
    }
   ],
   "source": [
    "if 'b' in locals():\n",
    "    print( 'b is local variable' )\n",
    "else:\n",
    "    print( 'b is not local variable' )\n",
    "\n",
    "if 'b' in globals():\n",
    "    print( 'b is global variable' )\n",
    "else:\n",
    "    print( 'b is not global variable' )"
   ]
  },
  {
   "cell_type": "code",
   "execution_count": 16,
   "metadata": {},
   "outputs": [
    {
     "name": "stdout",
     "output_type": "stream",
     "text": [
      "name                 | local?               | global?             \n",
      "------------------------------------------------------------------\n",
      "var1                 | True                 | True                \n",
      "var2                 | False                | True                \n",
      "var3                 | True                 | True                \n",
      "var4                 | False                | True                \n",
      "var5                 | True                 | False               \n",
      "var6                 | False                | False               \n"
     ]
    }
   ],
   "source": [
    "var1 = 0\n",
    "var2 = 0\n",
    "var3 = 0\n",
    "var4 = 0\n",
    "def some_dummy_function(var1):\n",
    "    \n",
    "    var3 = 0 # overwrite global name\n",
    "    global var4\n",
    "    var4 = 0 # overwrite global value\n",
    "    var5 = 0 # not defined as global\n",
    "    \n",
    "    print('{0:20} | {1:20} | {2:20}'.format(\"name\", \"local?\", \"global?\"))\n",
    "    print('-'*66)\n",
    "    print('{0:20} | {1:20} | {2:20}'.format('var1', str('var1' in locals()), str('var1' in globals())))\n",
    "    print('{0:20} | {1:20} | {2:20}'.format('var2', str('var2' in locals()), str('var2' in globals())))\n",
    "    print('{0:20} | {1:20} | {2:20}'.format('var3', str('var3' in locals()), str('var3' in globals())))\n",
    "    print('{0:20} | {1:20} | {2:20}'.format('var4', str('var4' in locals()), str('var4' in globals())))\n",
    "    print('{0:20} | {1:20} | {2:20}'.format('var5', str('var5' in locals()), str('var5' in globals())))\n",
    "    print('{0:20} | {1:20} | {2:20}'.format('var6', str('var6' in locals()), str('var6' in globals())))\n",
    "\n",
    "    \n",
    "some_dummy_function(var1)"
   ]
  },
  {
   "cell_type": "code",
   "execution_count": null,
   "metadata": {},
   "outputs": [],
   "source": []
  }
 ],
 "metadata": {
  "kernelspec": {
   "display_name": "Python 3",
   "language": "python",
   "name": "python3"
  },
  "language_info": {
   "codemirror_mode": {
    "name": "ipython",
    "version": 3
   },
   "file_extension": ".py",
   "mimetype": "text/x-python",
   "name": "python",
   "nbconvert_exporter": "python",
   "pygments_lexer": "ipython3",
   "version": "3.6.7"
  }
 },
 "nbformat": 4,
 "nbformat_minor": 2
}
