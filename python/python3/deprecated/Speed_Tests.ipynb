{
 "cells": [
  {
   "cell_type": "markdown",
   "metadata": {},
   "source": [
    "\n",
    "# Speed Tests"
   ]
  },
  {
   "cell_type": "code",
   "execution_count": 1,
   "metadata": {},
   "outputs": [],
   "source": [
    "import time"
   ]
  },
  {
   "cell_type": "markdown",
   "metadata": {},
   "source": [
    "## Lists: Appending vs initial alloc"
   ]
  },
  {
   "cell_type": "code",
   "execution_count": 2,
   "metadata": {},
   "outputs": [
    {
     "name": "stdout",
     "output_type": "stream",
     "text": [
      "n = 1.0e+01, allocate: 3.099e-06s, append: 2.861e-06s\n",
      "n = 1.0e+03, allocate: 1.152e-04s, append: 1.042e-04s\n",
      "n = 1.0e+06, allocate: 1.019e-01s, append: 8.946e-02s\n",
      "n = 5.0e+07, allocate: 5.003e+00s, append: 4.225e+00s\n"
     ]
    }
   ],
   "source": [
    "for n in [10, 1000, 1000000, 50000000]:\n",
    "    start_append = time.time()\n",
    "    l = []\n",
    "    for i in range(n):\n",
    "        l.append(i)\n",
    "    stop_append = time.time()\n",
    "    \n",
    "    start_alloc = time.time()\n",
    "    # overestimate how many elements you will need\n",
    "    l = [ None for i in range(n)]\n",
    "    for i in range(n):\n",
    "        l[i] = i\n",
    "    stop_alloc = time.time()\n",
    "    print( \"n = {0:.1e}, allocate: {1:.3e}s, append: {2:.3e}s\".format(n, stop_alloc-start_alloc, stop_append - start_append))"
   ]
  },
  {
   "cell_type": "code",
   "execution_count": null,
   "metadata": {},
   "outputs": [],
   "source": []
  }
 ],
 "metadata": {
  "kernelspec": {
   "display_name": "Python 3",
   "language": "python",
   "name": "python3"
  },
  "language_info": {
   "codemirror_mode": {
    "name": "ipython",
    "version": 3
   },
   "file_extension": ".py",
   "mimetype": "text/x-python",
   "name": "python",
   "nbconvert_exporter": "python",
   "pygments_lexer": "ipython3",
   "version": "3.6.7"
  }
 },
 "nbformat": 4,
 "nbformat_minor": 2
}
