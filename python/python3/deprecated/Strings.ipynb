{
 "cells": [
  {
   "cell_type": "markdown",
   "metadata": {},
   "source": [
    "# Strings"
   ]
  },
  {
   "cell_type": "markdown",
   "metadata": {},
   "source": [
    "## Basics"
   ]
  },
  {
   "cell_type": "code",
   "execution_count": 1,
   "metadata": {},
   "outputs": [],
   "source": [
    "mystring=\"Hallo. Das ist ein beliebiger String.\""
   ]
  },
  {
   "cell_type": "code",
   "execution_count": 2,
   "metadata": {},
   "outputs": [
    {
     "name": "stdout",
     "output_type": "stream",
     "text": [
      "String.\n"
     ]
    }
   ],
   "source": [
    "#Last 7 characters of String:\n",
    "print(mystring[-7:] )"
   ]
  },
  {
   "cell_type": "code",
   "execution_count": 3,
   "metadata": {},
   "outputs": [
    {
     "name": "stdout",
     "output_type": "stream",
     "text": [
      "Hallo. Das ist ein beliebiger String.\n"
     ]
    }
   ],
   "source": [
    "#Original String wasn't cut off:\n",
    "print(mystring )\n"
   ]
  },
  {
   "cell_type": "code",
   "execution_count": 4,
   "metadata": {},
   "outputs": [
    {
     "name": "stdout",
     "output_type": "stream",
     "text": [
      "Hallo. Das ist ein beliebiger String\n"
     ]
    }
   ],
   "source": [
    "#All but the last character\n",
    "print(mystring[:-1] )"
   ]
  },
  {
   "cell_type": "code",
   "execution_count": 5,
   "metadata": {},
   "outputs": [
    {
     "name": "stdout",
     "output_type": "stream",
     "text": [
      ".\n"
     ]
    }
   ],
   "source": [
    "#Last character:\n",
    "print(mystring[-1] )"
   ]
  },
  {
   "cell_type": "code",
   "execution_count": 6,
   "metadata": {},
   "outputs": [
    {
     "name": "stdout",
     "output_type": "stream",
     "text": [
      "S\n"
     ]
    }
   ],
   "source": [
    "#7th last character\n",
    "print(mystring[-7] )"
   ]
  },
  {
   "cell_type": "markdown",
   "metadata": {},
   "source": [
    "## Split, Join, Strip, Fill"
   ]
  },
  {
   "cell_type": "code",
   "execution_count": 7,
   "metadata": {},
   "outputs": [
    {
     "name": "stdout",
     "output_type": "stream",
     "text": [
      "['50', ' 16', ' ', ' 12']\n"
     ]
    }
   ],
   "source": [
    "# split\n",
    "s = '50, 16, , 12'\n",
    "l1 = s.split(',')\n",
    "print(l1)"
   ]
  },
  {
   "cell_type": "code",
   "execution_count": 8,
   "metadata": {},
   "outputs": [
    {
     "name": "stdout",
     "output_type": "stream",
     "text": [
      "12.53.24\n",
      "12*53*24\n"
     ]
    }
   ],
   "source": [
    "# join\n",
    "l = ['12', '53', '24']\n",
    "s1 = \".\".join(l)\n",
    "s2 = \"*\".join(l)\n",
    "print(s1)\n",
    "print(s2)"
   ]
  },
  {
   "cell_type": "code",
   "execution_count": 10,
   "metadata": {},
   "outputs": [
    {
     "name": "stdout",
     "output_type": "stream",
     "text": [
      "Original:\n",
      "    hello!\n",
      "\n",
      "Stripped:\n",
      "hello!\n"
     ]
    }
   ],
   "source": [
    "# strip\n",
    "s3 = '    hello!\\n'\n",
    "print(\"Original:\")\n",
    "print(s3)\n",
    "print(\"Stripped:\")\n",
    "print(s3.strip())"
   ]
  },
  {
   "cell_type": "code",
   "execution_count": 11,
   "metadata": {},
   "outputs": [
    {
     "data": {
      "text/plain": [
       "'0000000003'"
      ]
     },
     "execution_count": 11,
     "metadata": {},
     "output_type": "execute_result"
    }
   ],
   "source": [
    "# zfill\n",
    "str(3).zfill(10)"
   ]
  },
  {
   "cell_type": "markdown",
   "metadata": {},
   "source": [
    "## Formatting"
   ]
  },
  {
   "cell_type": "code",
   "execution_count": 13,
   "metadata": {},
   "outputs": [
    {
     "name": "stdout",
     "output_type": "stream",
     "text": [
      "strings           | String1      this_string_is_too_long_and_will_just_keep_going\n",
      "ints              | 0001234               123\n",
      "bools             |            1 False       \n",
      "flts              |      12.9000         18.7\n",
      "flts, scientific  |   1.2234E+06    1.880E+01\n"
     ]
    }
   ],
   "source": [
    "print('{0:17} | {1:12} {2:12}'.format(\"strings\", \"String1\", \"this_string_is_too_long_and_will_just_keep_going\"))\n",
    "print('{0:17} | {1:12} {2:12d}'.format(\"ints\", '1234'.zfill(7), 123))\n",
    "print('{0:17} | {1:12} {2:12}'.format(\"bools\", True, str(False)))\n",
    "print('{0:17} | {1:12.4f} {2:12.1f}'.format(\"flts\", 12.9, 18.7))\n",
    "print('{0:17} | {1:12.4E} {2:12.3E}'.format(\"flts, scientific\", 1223420.9, 18.7998234))\n",
    "\n"
   ]
  },
  {
   "cell_type": "code",
   "execution_count": 28,
   "metadata": {},
   "outputs": [
    {
     "name": "stdout",
     "output_type": "stream",
     "text": [
      "strings          | FIRST STRING | SECOND STRING WHICH IS TOO LONG\n",
      "ints             |      0001234 |          142\n",
      "bools            |         True |        False\n",
      "flts             |      12.9000 |         18.7\n",
      "flts, scientific |   1.2234E+06 |    1.880E+01\n"
     ]
    }
   ],
   "source": [
    "print(\"strings          | %12s | %12s\"     % (\"FIRST STRING\", \"SECOND STRING WHICH IS TOO LONG\") )\n",
    "print(\"ints             | %12s | %12d\"     % (\"1234\".zfill(7), 142) )\n",
    "print(\"bools            | %12s | %12s\"     % (True, str(False)))\n",
    "print(\"flts             | %12.4f | %12.1f\" % (12.9, 18.7))\n",
    "print(\"flts, scientific | %12.4E | %12.3E\" % (1223420.9, 18.7998234))"
   ]
  },
  {
   "cell_type": "code",
   "execution_count": null,
   "metadata": {},
   "outputs": [],
   "source": []
  }
 ],
 "metadata": {
  "kernelspec": {
   "display_name": "Python 3",
   "language": "python",
   "name": "python3"
  },
  "language_info": {
   "codemirror_mode": {
    "name": "ipython",
    "version": 3
   },
   "file_extension": ".py",
   "mimetype": "text/x-python",
   "name": "python",
   "nbconvert_exporter": "python",
   "pygments_lexer": "ipython3",
   "version": "3.6.7"
  }
 },
 "nbformat": 4,
 "nbformat_minor": 2
}
