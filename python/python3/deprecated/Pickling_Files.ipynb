{
 "cells": [
  {
   "cell_type": "markdown",
   "metadata": {},
   "source": [
    "# Pickling Files\n",
    "\n",
    "Pickling data\n",
    "\n",
    "Store non-text (= binary) data in files\n",
    "\n",
    "for easy read-in"
   ]
  },
  {
   "cell_type": "code",
   "execution_count": 2,
   "metadata": {},
   "outputs": [],
   "source": [
    "import pickle"
   ]
  },
  {
   "cell_type": "markdown",
   "metadata": {},
   "source": [
    "## Dumping Data"
   ]
  },
  {
   "cell_type": "code",
   "execution_count": 3,
   "metadata": {},
   "outputs": [],
   "source": [
    "# open file for writing\n",
    "pickle_file = open('inputfiles/my_picklefile.pkl', 'wb')\n"
   ]
  },
  {
   "cell_type": "code",
   "execution_count": 4,
   "metadata": {},
   "outputs": [],
   "source": [
    "# create whatever you need\n",
    "my_list = [\"Johnny B. Goode\", 21, 1.89234e-7, (7,3), ['2',4,'c']]\n"
   ]
  },
  {
   "cell_type": "code",
   "execution_count": 5,
   "metadata": {},
   "outputs": [],
   "source": [
    "# dump the contents, close file\n",
    "pickle.dump(my_list, pickle_file)\n",
    "pickle_file.close()\n"
   ]
  },
  {
   "cell_type": "markdown",
   "metadata": {},
   "source": [
    "## Reading Data"
   ]
  },
  {
   "cell_type": "code",
   "execution_count": 6,
   "metadata": {},
   "outputs": [
    {
     "name": "stdout",
     "output_type": "stream",
     "text": [
      "Recovered list:  ['Johnny B. Goode', 21, 1.89234e-07, (7, 3), ['2', 4, 'c']]\n"
     ]
    }
   ],
   "source": [
    "# unpacking files\n",
    "pickle_backup = open('inputfiles/my_picklefile.pkl', 'rb')\n",
    "recovered_list = pickle.load(pickle_backup)\n",
    "print(\"Recovered list: \", recovered_list)"
   ]
  },
  {
   "cell_type": "markdown",
   "metadata": {},
   "source": [
    "# Dumping Multiple Things in the same pkl"
   ]
  },
  {
   "cell_type": "code",
   "execution_count": 7,
   "metadata": {},
   "outputs": [
    {
     "name": "stdout",
     "output_type": "stream",
     "text": [
      "read in 1: 100\n",
      "read in 2: 100\n",
      "read in 3: Hello Darkness my old friend\n"
     ]
    }
   ],
   "source": [
    "# open file for writing\n",
    "pickle_file = open('inputfiles/my_picklefile_2.pkl', 'wb')\n",
    "# invent some data\n",
    "import numpy as np\n",
    "d1 = np.zeros(100)\n",
    "d2 = [x**2 for x in range(100)]\n",
    "d3 = \"Hello Darkness my old friend\"\n",
    "\n",
    "# dump stuff\n",
    "pickle.dump(d1, pickle_file)\n",
    "pickle.dump(d2, pickle_file)\n",
    "pickle.dump(d3, pickle_file)\n",
    "\n",
    "# close file\n",
    "pickle_file.close()\n",
    "\n",
    "\n",
    "# open file for reading\n",
    "pickle_file = open('inputfiles/my_picklefile_2.pkl', 'rb')\n",
    "dr1 = pickle.load(pickle_file)\n",
    "dr2 = pickle.load(pickle_file)\n",
    "dr3 = pickle.load(pickle_file)\n",
    "\n",
    "print(\"read in 1:\", dr1.size)\n",
    "print(\"read in 2:\", len(dr2))\n",
    "print(\"read in 3:\", dr3)"
   ]
  },
  {
   "cell_type": "code",
   "execution_count": null,
   "metadata": {},
   "outputs": [],
   "source": []
  },
  {
   "cell_type": "code",
   "execution_count": null,
   "metadata": {},
   "outputs": [],
   "source": []
  }
 ],
 "metadata": {
  "kernelspec": {
   "display_name": "Python 3",
   "language": "python",
   "name": "python3"
  },
  "language_info": {
   "codemirror_mode": {
    "name": "ipython",
    "version": 3
   },
   "file_extension": ".py",
   "mimetype": "text/x-python",
   "name": "python",
   "nbconvert_exporter": "python",
   "pygments_lexer": "ipython3",
   "version": "3.6.7"
  }
 },
 "nbformat": 4,
 "nbformat_minor": 2
}
