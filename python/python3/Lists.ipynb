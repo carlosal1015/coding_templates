{
 "cells": [
  {
   "cell_type": "markdown",
   "metadata": {},
   "source": [
    "# Lists"
   ]
  },
  {
   "cell_type": "markdown",
   "metadata": {},
   "source": [
    "## Initialization"
   ]
  },
  {
   "cell_type": "code",
   "execution_count": 17,
   "metadata": {},
   "outputs": [
    {
     "name": "stdout",
     "output_type": "stream",
     "text": [
      "[3, 'e', 789.132]\n"
     ]
    }
   ],
   "source": [
    "# give the elements manually\n",
    "list1 = [ 3, 'e', 789.132]\n",
    "print(list1)"
   ]
  },
  {
   "cell_type": "code",
   "execution_count": 18,
   "metadata": {},
   "outputs": [],
   "source": [
    "# or generate from iterators or the like\n",
    "mylist = list(range(3,7))"
   ]
  },
  {
   "cell_type": "markdown",
   "metadata": {},
   "source": [
    "## Simple Operations"
   ]
  },
  {
   "cell_type": "code",
   "execution_count": 19,
   "metadata": {},
   "outputs": [
    {
     "data": {
      "text/plain": [
       "[3, 4, 5, 6, 8]"
      ]
     },
     "execution_count": 19,
     "metadata": {},
     "output_type": "execute_result"
    }
   ],
   "source": [
    "mylist.append(8) # append element\n",
    "mylist"
   ]
  },
  {
   "cell_type": "code",
   "execution_count": 20,
   "metadata": {},
   "outputs": [
    {
     "data": {
      "text/plain": [
       "[3, 4, 5, 6, 7, 8]"
      ]
     },
     "execution_count": 20,
     "metadata": {},
     "output_type": "execute_result"
    }
   ],
   "source": [
    "mylist.insert(4,7) # instert 7 on index 4\n",
    "mylist"
   ]
  },
  {
   "cell_type": "code",
   "execution_count": 21,
   "metadata": {},
   "outputs": [
    {
     "data": {
      "text/plain": [
       "[3, 4, 5, 6, 7, 8, 2, 4, 6]"
      ]
     },
     "execution_count": 21,
     "metadata": {},
     "output_type": "execute_result"
    }
   ],
   "source": [
    "mylist.extend([2,4,6]) # append list to list\n",
    "mylist"
   ]
  },
  {
   "cell_type": "code",
   "execution_count": 22,
   "metadata": {},
   "outputs": [
    {
     "data": {
      "text/plain": [
       "2"
      ]
     },
     "execution_count": 22,
     "metadata": {},
     "output_type": "execute_result"
    }
   ],
   "source": [
    "mylist.index(5) # index of first occurance of 4"
   ]
  },
  {
   "cell_type": "code",
   "execution_count": 23,
   "metadata": {},
   "outputs": [
    {
     "data": {
      "text/plain": [
       "[2, 3, 4, 4, 5, 6, 6, 7, 8]"
      ]
     },
     "execution_count": 23,
     "metadata": {},
     "output_type": "execute_result"
    }
   ],
   "source": [
    "mylist.sort() # sort\n",
    "mylist"
   ]
  },
  {
   "cell_type": "code",
   "execution_count": 24,
   "metadata": {},
   "outputs": [
    {
     "data": {
      "text/plain": [
       "[8, 7, 6, 6, 5, 4, 4, 3, 2]"
      ]
     },
     "execution_count": 24,
     "metadata": {},
     "output_type": "execute_result"
    }
   ],
   "source": [
    "mylist.reverse()\n",
    "mylist"
   ]
  },
  {
   "cell_type": "code",
   "execution_count": 26,
   "metadata": {},
   "outputs": [
    {
     "name": "stdout",
     "output_type": "stream",
     "text": [
      "popped: 3\n",
      "[8, 7, 6, 6, 5, 4, 4]\n"
     ]
    }
   ],
   "source": [
    "popped = mylist.pop() # pop last element\n",
    "print(\"popped:\", popped)\n",
    "print(mylist)"
   ]
  },
  {
   "cell_type": "code",
   "execution_count": 27,
   "metadata": {},
   "outputs": [
    {
     "data": {
      "text/plain": [
       "4"
      ]
     },
     "execution_count": 27,
     "metadata": {},
     "output_type": "execute_result"
    }
   ],
   "source": [
    "min(mylist) # min"
   ]
  },
  {
   "cell_type": "code",
   "execution_count": 28,
   "metadata": {},
   "outputs": [
    {
     "data": {
      "text/plain": [
       "8"
      ]
     },
     "execution_count": 28,
     "metadata": {},
     "output_type": "execute_result"
    }
   ],
   "source": [
    "max(mylist) # max"
   ]
  },
  {
   "cell_type": "code",
   "execution_count": 29,
   "metadata": {},
   "outputs": [
    {
     "data": {
      "text/plain": [
       "7"
      ]
     },
     "execution_count": 29,
     "metadata": {},
     "output_type": "execute_result"
    }
   ],
   "source": [
    "len(mylist)"
   ]
  },
  {
   "cell_type": "code",
   "execution_count": 30,
   "metadata": {},
   "outputs": [
    {
     "data": {
      "text/plain": [
       "[1, 2, 3, 4, 5, 6]"
      ]
     },
     "execution_count": 30,
     "metadata": {},
     "output_type": "execute_result"
    }
   ],
   "source": [
    "# adding lists \n",
    "a = [1, 2, 3]\n",
    "b = [4, 5, 6]\n",
    "a + b"
   ]
  },
  {
   "cell_type": "markdown",
   "metadata": {},
   "source": [
    "## Accessing Elements"
   ]
  },
  {
   "cell_type": "code",
   "execution_count": 31,
   "metadata": {},
   "outputs": [
    {
     "name": "stdout",
     "output_type": "stream",
     "text": [
      "mylist = \t [8, 7, 6, 6, 5, 4, 4]\n",
      "mylist[0] = \t 8\n",
      "mylist[1] = \t 7\n",
      "mylist[-1] = \t 4\n",
      "mylist[:] = \t [8, 7, 6, 6, 5, 4, 4]\n",
      "mylist[:4] = \t [8, 7, 6, 6]\n",
      "mylist[:-3] = \t [8, 7, 6, 6]\n",
      "mylist[5:] = \t [4, 4]\n",
      "mylist[-2:] = \t [4, 4]\n"
     ]
    }
   ],
   "source": [
    "print(\"mylist = \\t\",      mylist )\n",
    "print(\"mylist[0] = \\t\",   mylist[0] )\n",
    "print(\"mylist[1] = \\t\",   mylist[1] )\n",
    "print(\"mylist[-1] = \\t\",  mylist[-1] )\n",
    "print(\"mylist[:] = \\t\",   mylist[:] )\n",
    "print(\"mylist[:4] = \\t\",  mylist[:4] )\n",
    "print(\"mylist[:-3] = \\t\", mylist[:-3] )\n",
    "print(\"mylist[5:] = \\t\",  mylist[5:] )\n",
    "print(\"mylist[-2:] = \\t\", mylist[-2:] )"
   ]
  },
  {
   "cell_type": "markdown",
   "metadata": {},
   "source": [
    "## Copying Lists"
   ]
  },
  {
   "cell_type": "code",
   "execution_count": 32,
   "metadata": {},
   "outputs": [
    {
     "name": "stdout",
     "output_type": "stream",
     "text": [
      "[1, 2, 3, 4]\n",
      "[1, 2, 3, 4]\n"
     ]
    }
   ],
   "source": [
    "list1 = [1,2,3]\n",
    "list2 = list1\n",
    "list1.append(4)\n",
    "\n",
    "# here's the problem:\n",
    "print(list1)\n",
    "print(list2)"
   ]
  },
  {
   "cell_type": "code",
   "execution_count": 33,
   "metadata": {},
   "outputs": [],
   "source": [
    "list3_1 = list1[:]\n",
    "list3_2 = sorted(list1)\n",
    "import copy\n",
    "list3_3 = copy.deepcopy(list1)\n",
    "\n",
    "# now change original list\n",
    "list1.append(5)\n"
   ]
  },
  {
   "cell_type": "code",
   "execution_count": 34,
   "metadata": {},
   "outputs": [
    {
     "name": "stdout",
     "output_type": "stream",
     "text": [
      "[1, 2, 3, 4, 5]\n",
      "[1, 2, 3, 4]\n",
      "[1, 2, 3, 4]\n",
      "[1, 2, 3, 4]\n"
     ]
    }
   ],
   "source": [
    "print(list1)\n",
    "print(list3_1)\n",
    "print(list3_2)\n",
    "print(list3_3)"
   ]
  },
  {
   "cell_type": "markdown",
   "metadata": {},
   "source": [
    "## zip"
   ]
  },
  {
   "cell_type": "code",
   "execution_count": 35,
   "metadata": {},
   "outputs": [
    {
     "name": "stdout",
     "output_type": "stream",
     "text": [
      "[('name', 'John B.'), ('surname', 'Goode'), ('age', 21), ('profession', 'guitar player')]\n"
     ]
    }
   ],
   "source": [
    "# You can zip two lists of same length\n",
    "fields = [\"name\", \"surname\", \"age\", \"profession\"]\n",
    "data = [\"John B.\", \"Goode\", 21, \"guitar player\"]\n",
    "combined = list(zip(fields, data))\n",
    "print(combined)"
   ]
  },
  {
   "cell_type": "markdown",
   "metadata": {},
   "source": [
    "## Sort Two Lists"
   ]
  },
  {
   "cell_type": "code",
   "execution_count": 36,
   "metadata": {},
   "outputs": [
    {
     "name": "stdout",
     "output_type": "stream",
     "text": [
      "Original\n",
      "List:  [5, 3, 4, 2]\n",
      "Index: [0, 1, 2, 3]\n",
      "\n",
      "Sorted:\n",
      "List:  (2, 3, 4, 5)\n",
      "Index: (3, 1, 2, 0)\n"
     ]
    }
   ],
   "source": [
    "lyst = [5, 3, 4, 2]\n",
    "ind  = list(range(len(lyst)))\n",
    "\n",
    "sortlist, sortind = zip(*sorted(zip(lyst, ind)))\n",
    "\n",
    "print(\"Original\")\n",
    "print(\"List: \", lyst)\n",
    "print(\"Index:\", ind)\n",
    "\n",
    "print(\"\\nSorted:\")\n",
    "print(\"List: \", sortlist)\n",
    "print(\"Index:\", sortind)"
   ]
  },
  {
   "cell_type": "code",
   "execution_count": null,
   "metadata": {},
   "outputs": [],
   "source": []
  }
 ],
 "metadata": {
  "kernelspec": {
   "display_name": "Python 3",
   "language": "python",
   "name": "python3"
  },
  "language_info": {
   "codemirror_mode": {
    "name": "ipython",
    "version": 3
   },
   "file_extension": ".py",
   "mimetype": "text/x-python",
   "name": "python",
   "nbconvert_exporter": "python",
   "pygments_lexer": "ipython3",
   "version": "3.6.7"
  }
 },
 "nbformat": 4,
 "nbformat_minor": 2
}
