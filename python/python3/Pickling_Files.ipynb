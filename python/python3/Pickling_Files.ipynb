{
 "cells": [
  {
   "cell_type": "markdown",
   "metadata": {},
   "source": [
    "# Pickling Files\n",
    "\n",
    "Pickling data\n",
    "\n",
    "Store non-text (= binary) data in files\n",
    "\n",
    "for easy read-in"
   ]
  },
  {
   "cell_type": "code",
   "execution_count": 1,
   "metadata": {},
   "outputs": [],
   "source": [
    "import pickle"
   ]
  },
  {
   "cell_type": "markdown",
   "metadata": {},
   "source": [
    "## Dumping Data"
   ]
  },
  {
   "cell_type": "code",
   "execution_count": 2,
   "metadata": {},
   "outputs": [],
   "source": [
    "# open file for writing\n",
    "pickle_file = open('inputfiles/my_picklefile.pkl', 'wb')\n"
   ]
  },
  {
   "cell_type": "code",
   "execution_count": 3,
   "metadata": {},
   "outputs": [],
   "source": [
    "# create whatever you need\n",
    "my_list = [\"Johnny B. Goode\", 21, 1.89234e-7, (7,3), ['2',4,'c']]\n"
   ]
  },
  {
   "cell_type": "code",
   "execution_count": 4,
   "metadata": {},
   "outputs": [],
   "source": [
    "# dump the contents, close file\n",
    "pickle.dump(my_list, pickle_file)\n",
    "pickle_file.close()\n"
   ]
  },
  {
   "cell_type": "markdown",
   "metadata": {},
   "source": [
    "## Reading Data"
   ]
  },
  {
   "cell_type": "code",
   "execution_count": 5,
   "metadata": {},
   "outputs": [
    {
     "name": "stdout",
     "output_type": "stream",
     "text": [
      "Recovered list:  ['Johnny B. Goode', 21, 1.89234e-07, (7, 3), ['2', 4, 'c']]\n"
     ]
    }
   ],
   "source": [
    "# unpacking files\n",
    "pickle_backup = open('inputfiles/my_picklefile.pkl', 'rb')\n",
    "recovered_list = pickle.load(pickle_backup)\n",
    "print(\"Recovered list: \", recovered_list)"
   ]
  },
  {
   "cell_type": "code",
   "execution_count": null,
   "metadata": {},
   "outputs": [],
   "source": []
  }
 ],
 "metadata": {
  "kernelspec": {
   "display_name": "Python 3",
   "language": "python",
   "name": "python3"
  },
  "language_info": {
   "codemirror_mode": {
    "name": "ipython",
    "version": 3
   },
   "file_extension": ".py",
   "mimetype": "text/x-python",
   "name": "python",
   "nbconvert_exporter": "python",
   "pygments_lexer": "ipython3",
   "version": "3.6.7"
  }
 },
 "nbformat": 4,
 "nbformat_minor": 2
}
